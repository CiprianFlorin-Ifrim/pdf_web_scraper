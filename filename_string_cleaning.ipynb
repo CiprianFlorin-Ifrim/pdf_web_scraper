{
 "cells": [
  {
   "cell_type": "code",
   "execution_count": 12,
   "id": "0454309b",
   "metadata": {},
   "outputs": [
    {
     "data": {
      "text/html": [
       "<style>.container { width:100% !important; }</style>"
      ],
      "text/plain": [
       "<IPython.core.display.HTML object>"
      ]
     },
     "metadata": {},
     "output_type": "display_data"
    }
   ],
   "source": [
    "#-----------------------------------------------------------------JUPYTER NOTEBOOK SETTINGS-----------------------------------------------------------------\n",
    "from IPython.display import display, HTML                                 \n",
    "display(HTML(\"<style>.container { width:100% !important; }</style>\"))   "
   ]
  },
  {
   "cell_type": "code",
   "execution_count": 15,
   "id": "54abe5b9",
   "metadata": {},
   "outputs": [],
   "source": [
    "import re\n",
    "import pandas as pd\n",
    "import os"
   ]
  },
  {
   "cell_type": "code",
   "execution_count": 19,
   "id": "ebf4075a",
   "metadata": {},
   "outputs": [
    {
     "name": "stdout",
     "output_type": "stream",
     "text": [
      "Filename/Original: Cenex-WP-2-True-Value-of-V2G-Report.pdf\n",
      "Title/Cleaned: Cenex WP 2 True Value of V2G Report\n",
      "\n",
      "Filename/Original: V2GB-Public-Report.pdf\n",
      "Title/Cleaned: V2GB Public Report\n",
      "\n",
      "Filename/Original: ESC-_V2GB_D1.3-Long-term-estimates-of-size-of-V2G-market_Final.pdf\n",
      "Title/Cleaned: ESC V2GB D1.3 Long term estimates of size of V2G market Final\n",
      "\n",
      "Filename/Original: ESC_V2GB_WP1_D1.2_Long-term-estimates-of-V2G-opportunities_Final.pdf\n",
      "Title/Cleaned: ESC V2GB WP1 D1.2 Long term estimates of V2G opportunities Final\n",
      "\n",
      "Filename/Original: V2GB-D1.1-Key-drivers-and-dependencies-for-V2G_Final.pdf\n",
      "Title/Cleaned: V2GB D1.1 Key drivers and dependencies for V2G Final\n",
      "\n",
      "Filename/Original: V2GB_WP-4-report-Requirements-for-market-scale-up.pdf\n",
      "Title/Cleaned: V2GB WP 4 report Requirements for market scale up\n",
      "\n",
      "Filename/Original: How-to-increase-consumer-confidence-in-gas-boiler-alternatives-1.pdf\n",
      "Title/Cleaned: How to increase consumer confidence in gas boiler alternatives 1\n",
      "\n"
     ]
    }
   ],
   "source": [
    "def clean_filename(filename):\n",
    "    # Remove the file extension first\n",
    "    filename = re.sub(r'\\.pdf$', '', filename, flags=re.IGNORECASE)\n",
    "\n",
    "    # Replace underscores with spaces\n",
    "    filename = filename.replace(\"_\", \" \")\n",
    "\n",
    "    # Handle specific patterns like \"22-23\" by temporarily replacing them\n",
    "    # This regex finds \"number-number\" patterns and temporarily replaces them to protect them\n",
    "    range_placeholder = \"NUMRANGE\"  # Placeholder for number ranges like \"22-23\"\n",
    "    ranges = re.findall(r'\\b\\d{2}-\\d{2}\\b', filename)  # Find number ranges\n",
    "    for range_ in ranges:\n",
    "        filename = filename.replace(range_, range_placeholder, 1)  # Replace ranges with placeholder\n",
    "\n",
    "    # Replace remaining dashes not in dates or ranges with spaces\n",
    "    filename = filename.replace(\"-\", \" \")\n",
    "\n",
    "    # Restore number ranges by replacing the placeholder with original ranges\n",
    "    for range_ in ranges:\n",
    "        filename = filename.replace(range_placeholder, range_, 1)  # Restore number range from placeholder\n",
    "\n",
    "    # Clean up extra spaces that might have been introduced\n",
    "    filename = re.sub(r'\\s+', ' ', filename).strip()\n",
    "    \n",
    "    return filename\n",
    "\n",
    "# Example filenames including the new ones\n",
    "filenames = [\n",
    "\"Cenex-WP-2-True-Value-of-V2G-Report.pdf\",\n",
    "\"V2GB-Public-Report.pdf\",\n",
    "\"ESC-_V2GB_D1.3-Long-term-estimates-of-size-of-V2G-market_Final.pdf\",\n",
    "\"ESC_V2GB_WP1_D1.2_Long-term-estimates-of-V2G-opportunities_Final.pdf\",\n",
    "\"V2GB-D1.1-Key-drivers-and-dependencies-for-V2G_Final.pdf\",\n",
    "\"V2GB_WP-4-report-Requirements-for-market-scale-up.pdf\",\n",
    "\"How-to-increase-consumer-confidence-in-gas-boiler-alternatives-1.pdf\"\n",
    "]\n",
    "\n",
    "# Clean each filename\n",
    "cleaned_filenames = [clean_filename(filename) for filename in filenames]\n",
    "\n",
    "# Display the results\n",
    "for original, cleaned in zip(filenames, cleaned_filenames):\n",
    "    print(f\"Filename/Original: {original}\\nTitle/Cleaned: {cleaned}\\n\")\n"
   ]
  },
  {
   "cell_type": "code",
   "execution_count": 17,
   "id": "828b01fd",
   "metadata": {},
   "outputs": [
    {
     "name": "stdout",
     "output_type": "stream",
     "text": [
      "The absolute path to the file is: /Users/ciprianifrim/_client-projects/ESC/esc_webpage_report_scraper/website_log/pdf_reports_metadata.csv\n",
      "CSV file has been updated with curated pdf titles.\n"
     ]
    }
   ],
   "source": [
    "def update_pdf_titles_in_csv(csv_file_path):\n",
    "    # Read the CSV file into a pandas DataFrame\n",
    "    df = pd.read_csv(csv_file_path)\n",
    "    \n",
    "    # Apply the clean_filename function to the 'pdf_filename' column and store the result in the 'pdf_title' column\n",
    "    df['pdf_title'] = df['pdf_filename'].apply(clean_filename)\n",
    "    \n",
    "    # Write the updated DataFrame back to the same CSV file, or specify a new file name if preferred\n",
    "    df.to_csv(csv_file_path, index=False)\n",
    "    print(\"CSV file has been updated with curated pdf titles.\")\n",
    "\n",
    "# Construct the absolute path from a base directory and a relative path\n",
    "relative_path = \"../../ESC/esc_webpage_report_scraper/website_log/pdf_reports_metadata.csv\"\n",
    "absolute_path = os.path.abspath(relative_path)\n",
    "print(\"The absolute path to the file is:\", absolute_path)\n",
    "\n",
    "update_pdf_titles_in_csv(absolute_path)"
   ]
  }
 ],
 "metadata": {
  "kernelspec": {
   "display_name": "python310_AI",
   "language": "python",
   "name": "python310_ai"
  },
  "language_info": {
   "codemirror_mode": {
    "name": "ipython",
    "version": 3
   },
   "file_extension": ".py",
   "mimetype": "text/x-python",
   "name": "python",
   "nbconvert_exporter": "python",
   "pygments_lexer": "ipython3",
   "version": "3.10.13"
  }
 },
 "nbformat": 4,
 "nbformat_minor": 5
}
