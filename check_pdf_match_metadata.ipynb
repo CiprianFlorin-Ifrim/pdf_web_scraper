{
 "cells": [
  {
   "cell_type": "code",
   "execution_count": 1,
   "id": "fc163fb7",
   "metadata": {},
   "outputs": [
    {
     "data": {
      "text/html": [
       "<style>.container { width:100% !important; }</style>"
      ],
      "text/plain": [
       "<IPython.core.display.HTML object>"
      ]
     },
     "metadata": {},
     "output_type": "display_data"
    }
   ],
   "source": [
    "#-----------------------------------------------------------------JUPYTER NOTEBOOK SETTINGS-----------------------------------------------------------------\n",
    "from IPython.display import display, HTML                                 \n",
    "display(HTML(\"<style>.container { width:100% !important; }</style>\"))   "
   ]
  },
  {
   "cell_type": "code",
   "execution_count": 2,
   "id": "8d21000a",
   "metadata": {},
   "outputs": [],
   "source": [
    "import pandas as pd"
   ]
  },
  {
   "cell_type": "code",
   "execution_count": 5,
   "id": "2068f9be",
   "metadata": {},
   "outputs": [
    {
     "name": "stdout",
     "output_type": "stream",
     "text": [
      "Total non-matching records: 1\n",
      "Non-matching PDF titles and their Excel indices:\n",
      "Index: 190, PDF Title: Cenex-WP-2-True-Value-of-V2G-Report.pdf\n"
     ]
    }
   ],
   "source": [
    "# Load the CSV file\n",
    "df = pd.read_csv('website_log/pdf_reports_metadata.csv')  # Replace 'your_file.csv' with the path to your CSV file\n",
    "\n",
    "# Initialize a counter and a list to store non-matching records\n",
    "non_matching_count = 0\n",
    "non_matching_records = []\n",
    "\n",
    "# Iterate through each row to check if the pdf_title is in the downloadlink\n",
    "for index, row in df.iterrows():\n",
    "    if row['pdf_title'] not in row['pdf_download_link']:\n",
    "        non_matching_count += 1\n",
    "        non_matching_records.append((index + 1, row['pdf_title']))  # Excel index adjustment\n",
    "\n",
    "# Output the count of non-matching records\n",
    "print(f\"Total non-matching records: {non_matching_count}\")\n",
    "\n",
    "# Output details of each non-matching record\n",
    "if non_matching_records:\n",
    "    print(\"Non-matching PDF titles and their Excel indices:\")\n",
    "    for record in non_matching_records:\n",
    "        print(f\"Index: {record[0]}, PDF Title: {record[1]}\")\n",
    "else:\n",
    "    print(\"All PDF titles match their download links.\")"
   ]
  }
 ],
 "metadata": {
  "kernelspec": {
   "display_name": "python310_AI",
   "language": "python",
   "name": "python310_ai"
  },
  "language_info": {
   "codemirror_mode": {
    "name": "ipython",
    "version": 3
   },
   "file_extension": ".py",
   "mimetype": "text/x-python",
   "name": "python",
   "nbconvert_exporter": "python",
   "pygments_lexer": "ipython3",
   "version": "3.10.13"
  }
 },
 "nbformat": 4,
 "nbformat_minor": 5
}
