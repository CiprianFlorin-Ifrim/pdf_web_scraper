{
 "cells": [
  {
   "cell_type": "code",
   "execution_count": 1,
   "id": "27329e60",
   "metadata": {},
   "outputs": [],
   "source": [
    "#-----------------------------------------------------------------------------------------------------------------------------------------------------------\n",
    "#-------------------------------------------------------------------------LIBRARIES-------------------------------------------------------------------------\n",
    "#-----------------------------------------------------------------------------------------------------------------------------------------------------------\n",
    "\n",
    "#---------------------------------------------------------------------SELENIUM LIBRARIES--------------------------------------------------------------------\n",
    "# !pip install selenium\n",
    "from selenium import webdriver\n",
    "from selenium.webdriver.common.by import By\n",
    "from selenium.webdriver.support.ui import WebDriverWait\n",
    "from selenium.webdriver.support.ui import Select\n",
    "from selenium.webdriver.support import expected_conditions as EC\n",
    "from selenium.webdriver.remote.webelement import WebElement\n",
    "from selenium.webdriver.chrome.options import Options\n",
    "from selenium.webdriver.chrome.service import Service\n",
    "from selenium.common.exceptions import NoSuchElementException\n",
    "from selenium.common.exceptions import TimeoutException\n",
    "from selenium.common.exceptions import StaleElementReferenceException\n",
    "from webdriver_manager.chrome import ChromeDriverManager\n",
    "\n",
    "#----------------------------------------------------------------------PYTHON LIBRARIES---------------------------------------------------------------------\n",
    "import time\n",
    "import random\n",
    "import os\n",
    "import zipfile\n",
    "from concurrent.futures import ThreadPoolExecutor"
   ]
  },
  {
   "cell_type": "code",
   "execution_count": 1,
   "id": "70eb21d5",
   "metadata": {},
   "outputs": [
    {
     "data": {
      "text/html": [
       "<style>.container { width:100% !important; }</style>"
      ],
      "text/plain": [
       "<IPython.core.display.HTML object>"
      ]
     },
     "metadata": {},
     "output_type": "display_data"
    }
   ],
   "source": [
    "#-----------------------------------------------------------------JUPYTER NOTEBOOK SETTINGS-----------------------------------------------------------------\n",
    "from IPython.display import display, HTML                                 \n",
    "display(HTML(\"<style>.container { width:100% !important; }</style>\"))   "
   ]
  },
  {
   "cell_type": "code",
   "execution_count": 13,
   "id": "4234c417",
   "metadata": {},
   "outputs": [
    {
     "name": "stdout",
     "output_type": "stream",
     "text": [
      "Absolute Path for Downloaded Reports: /Users/ciprianifrim/_projects/esc_report_scraper/downloaded_reports\n",
      "https://esc-production-2021.s3.eu-west-2.amazonaws.com/wp-content/uploads/2023/08/03165034/Electricity-Networks-Commissioner-report-to-SoS.pdf\n",
      "https://esc-production-2021.s3.eu-west-2.amazonaws.com/wp-content/uploads/2023/08/03165030/Electricity-Networks-Commissioner-Companion-Report-by-ESC.pdf\n"
     ]
    }
   ],
   "source": [
    "#-----------------------------------------------------------------------------------------------------------------------------------------------------------\n",
    "#-----------------------------------------------------------------------MAIN CODE---------------------------------------------------------------------------\n",
    "#-----------------------------------------------------------------------------------------------------------------------------------------------------------\n",
    "\n",
    "#-------------------------------------------------------------------SELENIUM SETTINGS-----------------------------------------------------------------------\n",
    "driver = webdriver.Chrome()                                                                       # start Chrome Driver (Firefox is not good for this)\n",
    "\n",
    "rel_download_path = \"downloaded_reports/\"                                                         # specify the relative download directory path\n",
    "abs_download_path = os.path.abspath(rel_download_path)                                            # convert to an absolute path for the download directory\n",
    "print(\"Absolute Path for Downloaded Reports:\", abs_download_path)\n",
    "\n",
    "chrome_options = Options()\n",
    "chrome_options.add_experimental_option(\"prefs\", {\n",
    "    \"plugins.plugins_disabled\": [\"Chrome PDF Viewer\"],                                            # disable Chrome's PDF Viewer\n",
    "    \"download.default_directory\": abs_download_path,\n",
    "    \"download.extensions_to_open\": \"applications/pdf\",\n",
    "    \"download.prompt_for_download\": False,                                                        # disable download prompt\n",
    "    \"plugins.always_open_pdf_externally\": True,                                                   # automatically download PDFs instead of opening them\n",
    "    \"profile.default_content_settings.popups\": 0,\n",
    "    \"profile.content_settings.exceptions.automatic_downloads.*.setting\": 1 \n",
    "})\n",
    "\n",
    "driver = webdriver.Chrome(service=Service(ChromeDriverManager().install()), \n",
    "                          options=chrome_options)\n",
    "# Navigate to the webpage\n",
    "webpage = \"https://es.catapult.org.uk/report/electricity-networks-commissioner-report/\"\n",
    "driver.get(webpage)\n",
    "driver.implicitly_wait(5)                                                                         # wait for 5 seconds for the page to load\n",
    "\n",
    "# Find all elements that match the class name\n",
    "button_elements = driver.find_elements(By.XPATH, \"//a[contains(@class, 'button') and contains(text(), 'Download')]\")\n",
    "\n",
    "# Iterate over the list of elements and print the href attribute of each\n",
    "for button in button_elements:\n",
    "    download_link = button.get_attribute(\"href\")\n",
    "    print(download_link)\n",
    "    "
   ]
  }
 ],
 "metadata": {
  "kernelspec": {
   "display_name": "python310_AI",
   "language": "python",
   "name": "python310_ai"
  },
  "language_info": {
   "codemirror_mode": {
    "name": "ipython",
    "version": 3
   },
   "file_extension": ".py",
   "mimetype": "text/x-python",
   "name": "python",
   "nbconvert_exporter": "python",
   "pygments_lexer": "ipython3",
   "version": "3.10.13"
  }
 },
 "nbformat": 4,
 "nbformat_minor": 5
}
